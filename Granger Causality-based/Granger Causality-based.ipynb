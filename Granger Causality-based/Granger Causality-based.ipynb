{
 "cells": [
  {
   "cell_type": "code",
   "execution_count": 1,
   "id": "cefe62df-103e-4595-b936-74f23c92f3c8",
   "metadata": {},
   "outputs": [
    {
     "name": "stdout",
     "output_type": "stream",
     "text": [
      "Requirement already satisfied: causal-learn in c:\\users\\acer\\anaconda3\\lib\\site-packages (0.1.3.8)\n",
      "Requirement already satisfied: numpy in c:\\users\\acer\\anaconda3\\lib\\site-packages (from causal-learn) (1.26.4)\n",
      "Requirement already satisfied: scipy in c:\\users\\acer\\anaconda3\\lib\\site-packages (from causal-learn) (1.11.4)\n",
      "Requirement already satisfied: scikit-learn in c:\\users\\acer\\anaconda3\\lib\\site-packages (from causal-learn) (1.5.1)\n",
      "Requirement already satisfied: graphviz in c:\\users\\acer\\anaconda3\\lib\\site-packages (from causal-learn) (0.20.3)\n",
      "Requirement already satisfied: statsmodels in c:\\users\\acer\\anaconda3\\lib\\site-packages (from causal-learn) (0.14.2)\n",
      "Requirement already satisfied: pandas in c:\\users\\acer\\anaconda3\\lib\\site-packages (from causal-learn) (2.0.3)\n",
      "Requirement already satisfied: matplotlib in c:\\users\\acer\\anaconda3\\lib\\site-packages (from causal-learn) (3.9.2)\n",
      "Requirement already satisfied: networkx in c:\\users\\acer\\anaconda3\\lib\\site-packages (from causal-learn) (2.8.8)\n",
      "Requirement already satisfied: pydot in c:\\users\\acer\\anaconda3\\lib\\site-packages (from causal-learn) (3.0.2)\n",
      "Requirement already satisfied: tqdm in c:\\users\\acer\\anaconda3\\lib\\site-packages (from causal-learn) (4.66.5)\n",
      "Requirement already satisfied: contourpy>=1.0.1 in c:\\users\\acer\\anaconda3\\lib\\site-packages (from matplotlib->causal-learn) (1.2.0)\n",
      "Requirement already satisfied: cycler>=0.10 in c:\\users\\acer\\anaconda3\\lib\\site-packages (from matplotlib->causal-learn) (0.11.0)\n",
      "Requirement already satisfied: fonttools>=4.22.0 in c:\\users\\acer\\anaconda3\\lib\\site-packages (from matplotlib->causal-learn) (4.25.0)\n",
      "Requirement already satisfied: kiwisolver>=1.3.1 in c:\\users\\acer\\anaconda3\\lib\\site-packages (from matplotlib->causal-learn) (1.4.4)\n",
      "Requirement already satisfied: packaging>=20.0 in c:\\users\\acer\\anaconda3\\lib\\site-packages (from matplotlib->causal-learn) (24.1)\n",
      "Requirement already satisfied: pillow>=8 in c:\\users\\acer\\anaconda3\\lib\\site-packages (from matplotlib->causal-learn) (10.4.0)\n",
      "Requirement already satisfied: pyparsing>=2.3.1 in c:\\users\\acer\\anaconda3\\lib\\site-packages (from matplotlib->causal-learn) (3.1.2)\n",
      "Requirement already satisfied: python-dateutil>=2.7 in c:\\users\\acer\\anaconda3\\lib\\site-packages (from matplotlib->causal-learn) (2.9.0.post0)\n",
      "Requirement already satisfied: importlib-resources>=3.2.0 in c:\\users\\acer\\anaconda3\\lib\\site-packages (from matplotlib->causal-learn) (6.4.0)\n",
      "Requirement already satisfied: pytz>=2020.1 in c:\\users\\acer\\anaconda3\\lib\\site-packages (from pandas->causal-learn) (2024.1)\n",
      "Requirement already satisfied: tzdata>=2022.1 in c:\\users\\acer\\anaconda3\\lib\\site-packages (from pandas->causal-learn) (2023.3)\n",
      "Requirement already satisfied: joblib>=1.2.0 in c:\\users\\acer\\anaconda3\\lib\\site-packages (from scikit-learn->causal-learn) (1.4.2)\n",
      "Requirement already satisfied: threadpoolctl>=3.1.0 in c:\\users\\acer\\anaconda3\\lib\\site-packages (from scikit-learn->causal-learn) (3.5.0)\n",
      "Requirement already satisfied: patsy>=0.5.6 in c:\\users\\acer\\anaconda3\\lib\\site-packages (from statsmodels->causal-learn) (0.5.6)\n",
      "Requirement already satisfied: colorama in c:\\users\\acer\\anaconda3\\lib\\site-packages (from tqdm->causal-learn) (0.4.6)\n",
      "Requirement already satisfied: zipp>=3.1.0 in c:\\users\\acer\\anaconda3\\lib\\site-packages (from importlib-resources>=3.2.0->matplotlib->causal-learn) (3.20.2)\n",
      "Requirement already satisfied: six in c:\\users\\acer\\anaconda3\\lib\\site-packages (from patsy>=0.5.6->statsmodels->causal-learn) (1.16.0)\n",
      "Note: you may need to restart the kernel to use updated packages.\n"
     ]
    }
   ],
   "source": [
    "pip install causal-learn"
   ]
  },
  {
   "cell_type": "code",
   "execution_count": 2,
   "id": "a714b761-31a9-42e3-8f54-53bb0f3e1870",
   "metadata": {},
   "outputs": [
    {
     "name": "stdout",
     "output_type": "stream",
     "text": [
      "         S0        S1        S2        S3        S4        S5        S6  \\\n",
      "0  0.129999  0.991586  0.490534  1.030064  0.444978  1.208354  0.827543   \n",
      "1  0.117729 -0.303972 -1.082923 -0.695533 -0.071504 -0.692810  0.102175   \n",
      "2 -0.990932 -1.090502 -0.730285 -0.278989  0.345468 -0.935047 -0.460561   \n",
      "3  1.940631  2.009416  1.683663  1.134586  1.794349  1.398274 -0.106631   \n",
      "4  0.788248  0.093302 -0.032045  0.589187  0.616736  0.390370  0.965328   \n",
      "\n",
      "         S7        S8        S9  ...       S15       S16       S17       S18  \\\n",
      "0  1.338010  0.759437  0.541619  ... -0.089528  0.507956  0.988139  0.987901   \n",
      "1 -0.669950 -0.587785 -0.168711  ... -0.532579 -0.594185 -0.396401 -0.735928   \n",
      "2 -0.421315  0.100106 -0.831737  ... -0.572841 -0.885619 -0.508891 -0.243055   \n",
      "3  1.671531  1.490054  2.175950  ...  1.880062  1.461646  1.817153  1.704725   \n",
      "4  0.542184 -0.203809  1.290336  ... -0.238918  0.637504  0.212562  0.933164   \n",
      "\n",
      "        S19       S20       S21       S22       S23       S24  \n",
      "0  0.310424 -0.029630  0.371462  0.130385 -0.287957 -0.757097  \n",
      "1 -1.771136 -0.548579 -0.357340 -0.914606 -0.480977 -0.567342  \n",
      "2 -0.105957 -0.482223 -0.492560 -0.204166  0.382463 -0.550881  \n",
      "3  2.065767  1.524978  1.665820  1.425453  2.211056  1.526384  \n",
      "4  0.650985 -0.660012  0.247150  0.771785  0.256871 -0.510581  \n",
      "\n",
      "[5 rows x 25 columns]\n"
     ]
    }
   ],
   "source": [
    "import pandas as pd\n",
    "\n",
    "data = pd.read_csv('C:/Users/ACER/Documents/TCDF-master/TCDF-master/data/Finance/manyinputs_returns30007000_header.csv')\n",
    "print(data.head())"
   ]
  },
  {
   "cell_type": "code",
   "execution_count": 3,
   "id": "c02240e1-9305-4950-bc03-5f0ec8ed3e96",
   "metadata": {},
   "outputs": [],
   "source": [
    "import numpy as np\n",
    "from causallearn.search.Granger.Granger import Granger\n",
    "from sklearn.model_selection import train_test_split\n",
    "\n",
    "df = pd.DataFrame(data)\n",
    "data_array = df.values  \n",
    "train, test = train_test_split(data_array, test_size=0.2, random_state=42)\n",
    "\n",
    "G = Granger()\n",
    "coeff_train = G.granger_lasso(train)\n",
    "coeff_test = G.granger_lasso(test)"
   ]
  },
  {
   "cell_type": "code",
   "execution_count": 4,
   "id": "c082cd37-b809-442e-84ae-ff0a6aba29b4",
   "metadata": {},
   "outputs": [],
   "source": [
    "true_graph = coeff_train\n",
    "estimated_graph = coeff_test"
   ]
  },
  {
   "cell_type": "code",
   "execution_count": 5,
   "id": "ff4d4f58-ba43-489c-a1f4-31743548b99a",
   "metadata": {},
   "outputs": [
    {
     "name": "stdout",
     "output_type": "stream",
     "text": [
      "SHD: 0\n",
      "SID: 36\n",
      "FDR: 0\n",
      "MCC: 0.04973158663903936\n"
     ]
    }
   ],
   "source": [
    "import numpy as np\n",
    "from sklearn.metrics import confusion_matrix\n",
    "\n",
    "# Function to compute SHD\n",
    "def compute_shd(true_graph, estimated_graph):\n",
    "    if true_graph.shape != estimated_graph.shape:\n",
    "        raise ValueError(\"The shapes of true_graph and estimated_graph must be the same.\")\n",
    "        \n",
    "    added_edges = np.sum((estimated_graph - true_graph) == 1)\n",
    "    removed_edges = np.sum((estimated_graph - true_graph) == -1)\n",
    "    return added_edges + removed_edges\n",
    "\n",
    "# Function to compute SID\n",
    "def compute_sid(true_graph, estimated_graph):\n",
    "    if true_graph.shape != estimated_graph.shape:\n",
    "        raise ValueError(\"The shapes of true_graph and estimated_graph must be the same.\")\n",
    "        \n",
    "    true_edges = (true_graph != 0).astype(int)\n",
    "    estimated_edges = (estimated_graph != 0).astype(int)\n",
    "    return np.sum(np.abs(true_edges - estimated_edges))\n",
    "\n",
    "# Function to compute FDR\n",
    "def compute_fdr(true_graph, estimated_graph):\n",
    "    if true_graph.shape != estimated_graph.shape:\n",
    "        raise ValueError(\"The shapes of true_graph and estimated_graph must be the same.\")\n",
    "        \n",
    "    tp = np.sum((true_graph == 1) & (estimated_graph == 1))  # True Positives\n",
    "    fp = np.sum((true_graph == 0) & (estimated_graph == 1))  # False Positives\n",
    "    return fp / (tp + fp) if (tp + fp) > 0 else 0\n",
    "\n",
    "# Function to compute MCC\n",
    "def compute_mcc(true_graph, estimated_graph):\n",
    "    if true_graph.shape != estimated_graph.shape:\n",
    "        raise ValueError(\"The shapes of true_graph and estimated_graph must be the same.\")\n",
    "        \n",
    "    # Flatten the matrices for binary classification\n",
    "    y_true = (true_graph != 0).flatten()\n",
    "    y_pred = (estimated_graph != 0).flatten()\n",
    "    \n",
    "    tn, fp, fn, tp = confusion_matrix(y_true, y_pred).ravel()\n",
    "    mcc = (tp * tn - fp * fn) / np.sqrt((tp + fp) * (tp + fn) * (tn + fp) * (tn + fn)) if (tp + fp) * (tp + fn) * (tn + fp) * (tn + fn) > 0 else 0\n",
    "    return mcc\n",
    "\n",
    "\n",
    "shd = compute_shd(true_graph, estimated_graph)\n",
    "sid = compute_sid(true_graph, estimated_graph)\n",
    "fdr = compute_fdr(true_graph, estimated_graph)\n",
    "mcc = compute_mcc(true_graph, estimated_graph)\n",
    "\n",
    "print(\"SHD:\", shd)\n",
    "print(\"SID:\", sid)\n",
    "print(\"FDR:\", fdr)\n",
    "print(\"MCC:\", mcc)\n"
   ]
  },
  {
   "cell_type": "code",
   "execution_count": 6,
   "id": "8959f9a5-6969-40c8-a275-161bb8a6b42f",
   "metadata": {},
   "outputs": [
    {
     "ename": "NetworkXError",
     "evalue": "Adjacency matrix not square: nx,ny=(25, 12)",
     "output_type": "error",
     "traceback": [
      "\u001b[1;31m---------------------------------------------------------------------------\u001b[0m",
      "\u001b[1;31mNetworkXError\u001b[0m                             Traceback (most recent call last)",
      "Cell \u001b[1;32mIn[6], line 6\u001b[0m\n\u001b[0;32m      3\u001b[0m \u001b[38;5;28;01mimport\u001b[39;00m \u001b[38;5;21;01mmatplotlib\u001b[39;00m\u001b[38;5;21;01m.\u001b[39;00m\u001b[38;5;21;01mpyplot\u001b[39;00m \u001b[38;5;28;01mas\u001b[39;00m \u001b[38;5;21;01mplt\u001b[39;00m\n\u001b[0;32m      5\u001b[0m estimated_adj_square \u001b[38;5;241m=\u001b[39m estimated_graph[:, :\u001b[38;5;241m12\u001b[39m]\n\u001b[1;32m----> 6\u001b[0m G \u001b[38;5;241m=\u001b[39m \u001b[43mnx\u001b[49m\u001b[38;5;241;43m.\u001b[39;49m\u001b[43mfrom_numpy_array\u001b[49m\u001b[43m(\u001b[49m\u001b[43mestimated_adj_square\u001b[49m\u001b[43m,\u001b[49m\u001b[43m \u001b[49m\u001b[43mcreate_using\u001b[49m\u001b[38;5;241;43m=\u001b[39;49m\u001b[43mnx\u001b[49m\u001b[38;5;241;43m.\u001b[39;49m\u001b[43mDiGraph\u001b[49m\u001b[43m)\u001b[49m\n\u001b[0;32m      8\u001b[0m \u001b[38;5;66;03m# Visualize the graph\u001b[39;00m\n\u001b[0;32m      9\u001b[0m plt\u001b[38;5;241m.\u001b[39mfigure(figsize\u001b[38;5;241m=\u001b[39m(\u001b[38;5;241m8\u001b[39m, \u001b[38;5;241m6\u001b[39m))\n",
      "File \u001b[1;32m~\\anaconda3\\lib\\site-packages\\networkx\\convert_matrix.py:1615\u001b[0m, in \u001b[0;36mfrom_numpy_array\u001b[1;34m(A, parallel_edges, create_using)\u001b[0m\n\u001b[0;32m   1613\u001b[0m n, m \u001b[38;5;241m=\u001b[39m A\u001b[38;5;241m.\u001b[39mshape\n\u001b[0;32m   1614\u001b[0m \u001b[38;5;28;01mif\u001b[39;00m n \u001b[38;5;241m!=\u001b[39m m:\n\u001b[1;32m-> 1615\u001b[0m     \u001b[38;5;28;01mraise\u001b[39;00m nx\u001b[38;5;241m.\u001b[39mNetworkXError(\u001b[38;5;124mf\u001b[39m\u001b[38;5;124m\"\u001b[39m\u001b[38;5;124mAdjacency matrix not square: nx,ny=\u001b[39m\u001b[38;5;132;01m{\u001b[39;00mA\u001b[38;5;241m.\u001b[39mshape\u001b[38;5;132;01m}\u001b[39;00m\u001b[38;5;124m\"\u001b[39m)\n\u001b[0;32m   1616\u001b[0m dt \u001b[38;5;241m=\u001b[39m A\u001b[38;5;241m.\u001b[39mdtype\n\u001b[0;32m   1617\u001b[0m \u001b[38;5;28;01mtry\u001b[39;00m:\n",
      "\u001b[1;31mNetworkXError\u001b[0m: Adjacency matrix not square: nx,ny=(25, 12)"
     ]
    }
   ],
   "source": [
    "import numpy as np\n",
    "import networkx as nx\n",
    "import matplotlib.pyplot as plt\n",
    "\n",
    "estimated_adj_square = estimated_graph[:, :12]\n",
    "G = nx.from_numpy_array(estimated_adj_square, create_using=nx.DiGraph)\n",
    "\n",
    "# Visualize the graph\n",
    "plt.figure(figsize=(8, 6))\n",
    "pos = nx.spring_layout(G)  # Position nodes\n",
    "nx.draw(G, pos, with_labels=True, node_size=700, node_color='lightblue', arrows=True)\n",
    "plt.title(\"Causal Graph from Estimated Adjacency Matrix\")\n",
    "plt.show()\n"
   ]
  }
 ],
 "metadata": {
  "kernelspec": {
   "display_name": "Python 3 (ipykernel)",
   "language": "python",
   "name": "python3"
  },
  "language_info": {
   "codemirror_mode": {
    "name": "ipython",
    "version": 3
   },
   "file_extension": ".py",
   "mimetype": "text/x-python",
   "name": "python",
   "nbconvert_exporter": "python",
   "pygments_lexer": "ipython3",
   "version": "3.9.20"
  }
 },
 "nbformat": 4,
 "nbformat_minor": 5
}
