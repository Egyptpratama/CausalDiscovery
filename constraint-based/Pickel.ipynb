{
 "cells": [
  {
   "cell_type": "code",
   "execution_count": null,
   "id": "95c41cc3-4d51-4ca6-b229-18ee73724712",
   "metadata": {},
   "outputs": [],
   "source": [
    "import numpy as np\n",
    "import pandas as pd\n",
    "\n",
    "df = pd.read_csv('C:/Users/ACER/Documents/causal/data_pickle.csv')\n",
    "df[:3]"
   ]
  },
  {
   "cell_type": "code",
   "execution_count": 42,
   "id": "08940733-6fad-4097-8e89-96a2edc6b131",
   "metadata": {},
   "outputs": [
    {
     "data": {
      "application/vnd.jupyter.widget-view+json": {
       "model_id": "23c40c0f2b0f46138d28d9ea09b03567",
       "version_major": 2,
       "version_minor": 0
      },
      "text/plain": [
       "  0%|          | 0/15 [00:00<?, ?it/s]"
      ]
     },
     "metadata": {},
     "output_type": "display_data"
    },
    {
     "data": {
      "application/vnd.jupyter.widget-view+json": {
       "model_id": "edd8f267b4d244ecab2bc77742e6c042",
       "version_major": 2,
       "version_minor": 0
      },
      "text/plain": [
       "  0%|          | 0/15 [00:00<?, ?it/s]"
      ]
     },
     "metadata": {},
     "output_type": "display_data"
    }
   ],
   "source": [
    "from sklearn.model_selection import train_test_split\n",
    "from causallearn.search.ConstraintBased.FCI import fci\n",
    "\n",
    "data_array = df.values\n",
    "train, test = train_test_split(data_array, test_size=0.5, random_state=42)\n",
    "\n",
    "pc_train,edges_train = fci(train)\n",
    "pc_test,edges_test = fci(test)"
   ]
  },
  {
   "cell_type": "code",
   "execution_count": 43,
   "id": "b31cc752-bb0e-4994-b7e5-e1dbc643369e",
   "metadata": {},
   "outputs": [],
   "source": [
    "true_adj = pc_train\n",
    "inferred_adj = pc_test"
   ]
  },
  {
   "cell_type": "code",
   "execution_count": 49,
   "id": "042a65c9-72f4-4a0e-a424-d11ca5214fd3",
   "metadata": {},
   "outputs": [],
   "source": [
    "def calculate_mcc(arrowsTp, arrowsTn, arrowsFp, arrowsFn):\n",
    "    numerator = (arrowsTp * arrowsTn) - (arrowsFp * arrowsFn)\n",
    "    denominator = ((arrowsTp + arrowsFp) * (arrowsTp + arrowsFn) * (arrowsTn + arrowsFp) * (arrowsTn + arrowsFn)) ** 0.5\n",
    "    if denominator == 0:\n",
    "        return 0\n",
    "    return numerator / denominator\n",
    "    \n",
    "def calculate_fdr(arrowsTp, arrowsFp):\n",
    "    \"\"\"Menghitung False Discovery Rate (FDR).\"\"\"\n",
    "    if (arrowsTp + arrowsFp) == 0:\n",
    "        return 0  # Untuk menghindari pembagian dengan nol\n",
    "    return arrowsFp / (arrowsTp + arrowsFp)\n",
    "\n",
    "def calculate_sid(arrowsTp, arrowsTn, arrowsFp, arrowsFn):\n",
    "    \"\"\"Menghitung Structural Independence Distance (SID).\"\"\"\n",
    "    return arrowsFp + arrowsFn"
   ]
  },
  {
   "cell_type": "code",
   "execution_count": 50,
   "id": "2b5de516-5bef-4aab-91d0-2237499f34c1",
   "metadata": {},
   "outputs": [
    {
     "name": "stdout",
     "output_type": "stream",
     "text": [
      "SHD: 7\n",
      "SID: 4.0\n",
      "FDR: 1.0\n",
      "MCC: -0.008968609865470852\n"
     ]
    }
   ],
   "source": [
    "from causallearn.graph.ArrowConfusion import ArrowConfusion\n",
    "from causallearn.graph.AdjacencyConfusion import AdjacencyConfusion\n",
    "from causallearn.graph.SHD import SHD\n",
    "\n",
    "# For arrows\n",
    "arrow = ArrowConfusion(true_adj, inferred_adj)\n",
    "\n",
    "arrowsTp = arrow.get_arrows_tp()\n",
    "arrowsFp = arrow.get_arrows_fp()\n",
    "arrowsFn = arrow.get_arrows_fn()\n",
    "arrowsTn = arrow.get_arrows_tn()\n",
    "\n",
    "arrowPrec = arrow.get_arrows_precision()\n",
    "arrowRec = arrow.get_arrows_recall()\n",
    "# For adjacency matrices\n",
    "adj = AdjacencyConfusion(true_adj, inferred_adj)\n",
    "\n",
    "adjTp = adj.get_adj_tp()\n",
    "adjFp = adj.get_adj_fp()\n",
    "adjFn = adj.get_adj_fn()\n",
    "adjTn = adj.get_adj_tn()\n",
    "adjPrec = adj.get_adj_precision()\n",
    "adjRec = adj.get_adj_recall()\n",
    "\n",
    "shd = SHD(true_adj, inferred_adj).get_shd()\n",
    "mcc = calculate_mcc(arrowsTp, arrowsTn, arrowsFp, arrowsFn)\n",
    "fdr = calculate_fdr(arrowsTp, arrowsFp)\n",
    "sid = calculate_sid(arrowsTp, arrowsTn, arrowsFp, arrowsFn)\n",
    "\n",
    "\n",
    "#print(f\"Arrows True Positive: {arrowsTp}, False Positive: {arrowsFp}, False Negative: {arrowsFn}, True Negative: {arrowsTn}\")\n",
    "#print(f\"Arrow Precision: {arrowPrec}, Recall: {arrowRec}\")\n",
    "#print(f\"Adjacency True Positive: {adjTp}, False Positive: {adjFp}, False Negative: {adjFn}, True Negative: {adjTn}\")\n",
    "#print(f\"Adjacency Precision: {adjPrec}, Recall: {adjRec}\")\n",
    "print(f\"SHD: {shd}\")\n",
    "print(f\"SID: {sid}\")\n",
    "print(f\"FDR: {fdr}\")\n",
    "print(f\"MCC: {mcc}\")\n",
    "\n"
   ]
  },
  {
   "cell_type": "code",
   "execution_count": 51,
   "id": "2da4972f-07ea-4c6b-9e6f-7f24e0168235",
   "metadata": {},
   "outputs": [],
   "source": [
    "from causallearn.utils.GraphUtils import GraphUtils\n",
    "\n",
    "pdy = GraphUtils.to_pydot(pc_test)\n",
    "pdy.write_png('simple_test_pickel.png')"
   ]
  },
  {
   "cell_type": "code",
   "execution_count": 52,
   "id": "0f513c37-851d-4a49-a154-3e58c19fe10d",
   "metadata": {},
   "outputs": [
    {
     "data": {
      "image/png": "[encoded data removed]",
      "text/plain": [
       "<Figure size 640x480 with 1 Axes>"
      ]
     },
     "metadata": {},
     "output_type": "display_data"
    }
   ],
   "source": [
    "import matplotlib.pyplot as plt\n",
    "import matplotlib.image as mpimg\n",
    "\n",
    "image_path = 'simple_test_pickel.png'  \n",
    "img = mpimg.imread(image_path)\n",
    "\n",
    "plt.imshow(img)\n",
    "plt.axis('off')\n",
    "plt.show()"
   ]
  }
 ],
 "metadata": {
  "kernelspec": {
   "display_name": "Python 3 (ipykernel)",
   "language": "python",
   "name": "python3"
  },
  "language_info": {
   "codemirror_mode": {
    "name": "ipython",
    "version": 3
   },
   "file_extension": ".py",
   "mimetype": "text/x-python",
   "name": "python",
   "nbconvert_exporter": "python",
   "pygments_lexer": "ipython3",
   "version": "3.9.20"
  }
 },
 "nbformat": 4,
 "nbformat_minor": 5
}
