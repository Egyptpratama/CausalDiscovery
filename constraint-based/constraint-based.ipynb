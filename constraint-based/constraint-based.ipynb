{
 "cells": [
  {
   "cell_type": "code",
   "execution_count": 2,
   "id": "b2749e07-d6b7-4f01-b5cb-d348207382db",
   "metadata": {},
   "outputs": [
    {
     "name": "stdout",
     "output_type": "stream",
     "text": [
      "Requirement already satisfied: causal-learn in c:\\users\\acer\\anaconda3\\lib\\site-packages (0.1.3.8)Note: you may need to restart the kernel to use updated packages.\n",
      "\n",
      "Requirement already satisfied: numpy in c:\\users\\acer\\anaconda3\\lib\\site-packages (from causal-learn) (1.26.4)\n",
      "Requirement already satisfied: scipy in c:\\users\\acer\\anaconda3\\lib\\site-packages (from causal-learn) (1.11.4)\n",
      "Requirement already satisfied: scikit-learn in c:\\users\\acer\\anaconda3\\lib\\site-packages (from causal-learn) (1.5.1)\n",
      "Requirement already satisfied: graphviz in c:\\users\\acer\\anaconda3\\lib\\site-packages (from causal-learn) (0.20.3)\n",
      "Requirement already satisfied: statsmodels in c:\\users\\acer\\anaconda3\\lib\\site-packages (from causal-learn) (0.14.2)\n",
      "Requirement already satisfied: pandas in c:\\users\\acer\\anaconda3\\lib\\site-packages (from causal-learn) (2.0.3)\n",
      "Requirement already satisfied: matplotlib in c:\\users\\acer\\anaconda3\\lib\\site-packages (from causal-learn) (3.9.2)\n",
      "Requirement already satisfied: networkx in c:\\users\\acer\\anaconda3\\lib\\site-packages (from causal-learn) (2.8.8)\n",
      "Requirement already satisfied: pydot in c:\\users\\acer\\anaconda3\\lib\\site-packages (from causal-learn) (3.0.2)\n",
      "Requirement already satisfied: tqdm in c:\\users\\acer\\anaconda3\\lib\\site-packages (from causal-learn) (4.66.5)\n",
      "Requirement already satisfied: contourpy>=1.0.1 in c:\\users\\acer\\anaconda3\\lib\\site-packages (from matplotlib->causal-learn) (1.2.0)\n",
      "Requirement already satisfied: cycler>=0.10 in c:\\users\\acer\\anaconda3\\lib\\site-packages (from matplotlib->causal-learn) (0.11.0)\n",
      "Requirement already satisfied: fonttools>=4.22.0 in c:\\users\\acer\\anaconda3\\lib\\site-packages (from matplotlib->causal-learn) (4.25.0)\n",
      "Requirement already satisfied: kiwisolver>=1.3.1 in c:\\users\\acer\\anaconda3\\lib\\site-packages (from matplotlib->causal-learn) (1.4.4)\n",
      "Requirement already satisfied: packaging>=20.0 in c:\\users\\acer\\anaconda3\\lib\\site-packages (from matplotlib->causal-learn) (24.1)\n",
      "Requirement already satisfied: pillow>=8 in c:\\users\\acer\\anaconda3\\lib\\site-packages (from matplotlib->causal-learn) (10.4.0)\n",
      "Requirement already satisfied: pyparsing>=2.3.1 in c:\\users\\acer\\anaconda3\\lib\\site-packages (from matplotlib->causal-learn) (3.1.2)\n",
      "Requirement already satisfied: python-dateutil>=2.7 in c:\\users\\acer\\anaconda3\\lib\\site-packages (from matplotlib->causal-learn) (2.9.0.post0)\n",
      "Requirement already satisfied: importlib-resources>=3.2.0 in c:\\users\\acer\\anaconda3\\lib\\site-packages (from matplotlib->causal-learn) (6.4.0)\n",
      "Requirement already satisfied: pytz>=2020.1 in c:\\users\\acer\\anaconda3\\lib\\site-packages (from pandas->causal-learn) (2024.1)\n",
      "Requirement already satisfied: tzdata>=2022.1 in c:\\users\\acer\\anaconda3\\lib\\site-packages (from pandas->causal-learn) (2023.3)\n",
      "Requirement already satisfied: joblib>=1.2.0 in c:\\users\\acer\\anaconda3\\lib\\site-packages (from scikit-learn->causal-learn) (1.4.2)\n",
      "Requirement already satisfied: threadpoolctl>=3.1.0 in c:\\users\\acer\\anaconda3\\lib\\site-packages (from scikit-learn->causal-learn) (3.5.0)\n",
      "Requirement already satisfied: patsy>=0.5.6 in c:\\users\\acer\\anaconda3\\lib\\site-packages (from statsmodels->causal-learn) (0.5.6)\n",
      "Requirement already satisfied: colorama in c:\\users\\acer\\anaconda3\\lib\\site-packages (from tqdm->causal-learn) (0.4.6)\n",
      "Requirement already satisfied: zipp>=3.1.0 in c:\\users\\acer\\anaconda3\\lib\\site-packages (from importlib-resources>=3.2.0->matplotlib->causal-learn) (3.20.2)\n",
      "Requirement already satisfied: six in c:\\users\\acer\\anaconda3\\lib\\site-packages (from patsy>=0.5.6->statsmodels->causal-learn) (1.16.0)\n"
     ]
    }
   ],
   "source": [
    "pip install causal-learn\n"
   ]
  },
  {
   "cell_type": "code",
   "execution_count": 3,
   "id": "67eb884f-557c-48d7-b868-f76860d72ceb",
   "metadata": {},
   "outputs": [
    {
     "name": "stdout",
     "output_type": "stream",
     "text": [
      "Name: causal-learnNote: you may need to restart the kernel to use updated packages.\n",
      "\n",
      "Version: 0.1.3.8\n",
      "Summary: causal-learn Python Package\n",
      "Home-page: https://github.com/py-why/causal-learn\n",
      "Author: \n",
      "Author-email: \n",
      "License: \n",
      "Location: c:\\users\\acer\\anaconda3\\lib\\site-packages\n",
      "Requires: graphviz, matplotlib, networkx, numpy, pandas, pydot, scikit-learn, scipy, statsmodels, tqdm\n",
      "Required-by: \n"
     ]
    }
   ],
   "source": [
    "pip show causal-learn"
   ]
  },
  {
   "cell_type": "code",
   "execution_count": 4,
   "id": "3cb7684f-ce5a-4955-b96e-de0178f04e13",
   "metadata": {},
   "outputs": [
    {
     "name": "stdout",
     "output_type": "stream",
     "text": [
      "<class 'pandas.core.frame.DataFrame'>\n",
      "RangeIndex: 4000 entries, 0 to 3999\n",
      "Data columns (total 25 columns):\n",
      " #   Column  Non-Null Count  Dtype  \n",
      "---  ------  --------------  -----  \n",
      " 0   S0      4000 non-null   float64\n",
      " 1   S1      4000 non-null   float64\n",
      " 2   S2      4000 non-null   float64\n",
      " 3   S3      4000 non-null   float64\n",
      " 4   S4      4000 non-null   float64\n",
      " 5   S5      4000 non-null   float64\n",
      " 6   S6      4000 non-null   float64\n",
      " 7   S7      4000 non-null   float64\n",
      " 8   S8      4000 non-null   float64\n",
      " 9   S9      4000 non-null   float64\n",
      " 10  S10     4000 non-null   float64\n",
      " 11  S11     4000 non-null   float64\n",
      " 12  S12     4000 non-null   float64\n",
      " 13  S13     4000 non-null   float64\n",
      " 14  S14     4000 non-null   float64\n",
      " 15  S15     4000 non-null   float64\n",
      " 16  S16     4000 non-null   float64\n",
      " 17  S17     4000 non-null   float64\n",
      " 18  S18     4000 non-null   float64\n",
      " 19  S19     4000 non-null   float64\n",
      " 20  S20     4000 non-null   float64\n",
      " 21  S21     4000 non-null   float64\n",
      " 22  S22     4000 non-null   float64\n",
      " 23  S23     4000 non-null   float64\n",
      " 24  S24     4000 non-null   float64\n",
      "dtypes: float64(25)\n",
      "memory usage: 781.4 KB\n",
      "None\n",
      "(4000, 25)\n",
      "         S0        S1        S2        S3        S4        S5        S6  \\\n",
      "0  0.129999  0.991586  0.490534  1.030064  0.444978  1.208354  0.827543   \n",
      "1  0.117729 -0.303972 -1.082923 -0.695533 -0.071504 -0.692810  0.102175   \n",
      "2 -0.990932 -1.090502 -0.730285 -0.278989  0.345468 -0.935047 -0.460561   \n",
      "\n",
      "         S7        S8        S9  ...       S15       S16       S17       S18  \\\n",
      "0  1.338010  0.759437  0.541619  ... -0.089528  0.507956  0.988139  0.987901   \n",
      "1 -0.669950 -0.587785 -0.168711  ... -0.532579 -0.594185 -0.396401 -0.735928   \n",
      "2 -0.421315  0.100106 -0.831737  ... -0.572841 -0.885619 -0.508891 -0.243055   \n",
      "\n",
      "        S19       S20       S21       S22       S23       S24  \n",
      "0  0.310424 -0.029630  0.371462  0.130385 -0.287957 -0.757097  \n",
      "1 -1.771136 -0.548579 -0.357340 -0.914606 -0.480977 -0.567342  \n",
      "2 -0.105957 -0.482223 -0.492560 -0.204166  0.382463 -0.550881  \n",
      "\n",
      "[3 rows x 25 columns]\n"
     ]
    }
   ],
   "source": [
    "import numpy as np\n",
    "import pandas as pd\n",
    "\n",
    "df = pd.read_csv('C:/Users/ACER/Documents/TCDF-master/TCDF-master/data/Finance/manyinputs_returns30007000_header.csv')\n",
    "print(df.info())\n",
    "print(df.shape)\n",
    "print(df.head(3))"
   ]
  },
  {
   "cell_type": "code",
   "execution_count": 5,
   "id": "99df4a8a-b8d1-4266-b360-45b4b09cdd12",
   "metadata": {},
   "outputs": [
    {
     "data": {
      "application/vnd.jupyter.widget-view+json": {
       "model_id": "06a4e904ec1b43e1be6f81a0414d24ae",
       "version_major": 2,
       "version_minor": 0
      },
      "text/plain": [
       "  0%|          | 0/25 [00:00<?, ?it/s]"
      ]
     },
     "metadata": {},
     "output_type": "display_data"
    },
    {
     "name": "stdout",
     "output_type": "stream",
     "text": [
      "X3 --> X1\n",
      "X1 --> X4\n",
      "X1 --> X5\n",
      "X1 --> X6\n",
      "X8 --> X1\n",
      "X9 --> X1\n",
      "X1 --> X11\n",
      "X2 --> X3\n",
      "X4 --> X2\n",
      "X2 --> X8\n",
      "X2 --> X9\n",
      "X2 --> X10\n",
      "X2 --> X11\n",
      "X2 --> X12\n",
      "X3 --> X4\n",
      "X5 --> X3\n",
      "X7 --> X3\n",
      "X3 --> X8\n",
      "X3 --> X9\n",
      "X12 --> X3\n",
      "X4 --> X5\n",
      "X4 --> X7\n",
      "X8 --> X4\n",
      "X4 --> X9\n",
      "X10 --> X4\n",
      "X13 --> X4\n",
      "X8 --> X5\n",
      "X9 --> X5\n",
      "X10 --> X5\n",
      "X6 --> X7\n",
      "X6 --> X8\n",
      "X7 --> X12\n",
      "X10 --> X8\n",
      "X8 --> X11\n",
      "X8 --> X13\n",
      "X8 --> X14\n",
      "X10 --> X9\n",
      "X12 --> X9\n",
      "X13 --> X9\n",
      "X9 --> X14\n",
      "X15 --> X9\n",
      "X9 --> X18\n",
      "X10 --> X13\n",
      "X10 --> X14\n",
      "X10 --> X15\n",
      "X11 --> X13\n",
      "X11 --> X16\n",
      "X11 --> X17\n",
      "X12 --> X13\n",
      "X12 --> X14\n",
      "X12 --> X16\n",
      "X12 --> X17\n",
      "X12 --> X19\n",
      "X13 --> X14\n",
      "X13 --> X16\n",
      "X13 --> X19\n",
      "X15 --> X14\n",
      "X18 --> X14\n",
      "X14 --> X19\n",
      "X15 --> X20\n",
      "X18 --> X17\n",
      "X17 --> X22\n",
      "X24 --> X17\n",
      "X18 --> X20\n",
      "X18 --> X25\n",
      "X19 --> X23\n",
      "X19 --> X24\n",
      "X19 --> X25\n",
      "X21 --> X22\n",
      "X21 --> X23\n",
      "X22 --> X23\n",
      "X24 --> X22\n",
      "X22 --> X25\n",
      "X24 --> X23\n",
      "X23 --> X25\n",
      "X24 --> X25\n"
     ]
    },
    {
     "data": {
      "application/vnd.jupyter.widget-view+json": {
       "model_id": "fa7bed60b0684f2188b5cb2895e1e7ab",
       "version_major": 2,
       "version_minor": 0
      },
      "text/plain": [
       "  0%|          | 0/25 [00:00<?, ?it/s]"
      ]
     },
     "metadata": {},
     "output_type": "display_data"
    },
    {
     "name": "stdout",
     "output_type": "stream",
     "text": [
      "X1 --> X3\n",
      "X1 --> X5\n",
      "X1 --> X6\n",
      "X1 --> X9\n",
      "X1 --> X12\n",
      "X2 --> X3\n",
      "X2 --> X4\n",
      "X2 --> X7\n",
      "X2 --> X8\n",
      "X3 --> X5\n",
      "X3 --> X8\n",
      "X3 --> X15\n",
      "X4 --> X5\n",
      "X7 --> X4\n",
      "X8 --> X4\n",
      "X4 --> X9\n",
      "X4 --> X10\n",
      "X8 --> X5\n",
      "X5 --> X9\n",
      "X5 --> X10\n",
      "X6 --> X7\n",
      "X13 --> X6\n",
      "X7 --> X12\n",
      "X8 --> X9\n",
      "X8 --> X10\n",
      "X8 --> X12\n",
      "X8 --> X14\n",
      "X9 --> X10\n",
      "X9 --> X13\n",
      "X9 --> X14\n",
      "X10 --> X14\n",
      "X10 --> X15\n",
      "X11 --> X16\n",
      "X11 --> X21\n",
      "X12 --> X16\n",
      "X12 --> X17\n",
      "X12 --> X19\n",
      "X14 --> X13\n",
      "X15 --> X13\n",
      "X13 --> X16\n",
      "X13 --> X17\n",
      "X13 --> X18\n",
      "X19 --> X13\n",
      "X13 --> X20\n",
      "X15 --> X14\n",
      "X14 --> X18\n",
      "X14 --> X19\n",
      "X15 --> X20\n",
      "X24 --> X15\n",
      "X15 --> X25\n",
      "X17 --> X16\n",
      "X18 --> X16\n",
      "X16 --> X21\n",
      "X17 --> X18\n",
      "X17 --> X21\n",
      "X24 --> X17\n",
      "X19 --> X18\n",
      "X20 --> X18\n",
      "X19 --> X22\n",
      "X23 --> X19\n",
      "X24 --> X20\n",
      "X21 --> X22\n",
      "X21 --> X23\n",
      "X22 --> X24\n",
      "X22 --> X25\n",
      "X23 --> X24\n",
      "X23 --> X25\n",
      "X24 --> X25\n"
     ]
    }
   ],
   "source": [
    "from sklearn.model_selection import train_test_split\n",
    "from causallearn.search.ConstraintBased.FCI import fci\n",
    "\n",
    "data_array = df.values\n",
    "train, test = train_test_split(data_array, test_size=0.2, random_state=42)\n",
    "\n",
    "pc_train,edges_train = fci(train)\n",
    "pc_test,edges_test = fci(test)"
   ]
  },
  {
   "cell_type": "code",
   "execution_count": 45,
   "id": "f7618baf-3210-4d85-a47a-668bc6f639ea",
   "metadata": {},
   "outputs": [],
   "source": [
    "true_adj = pc_train\n",
    "inferred_adj = pc_test"
   ]
  },
  {
   "cell_type": "code",
   "execution_count": 46,
   "id": "7c10729c-7477-40f2-bfb4-32818ccd3927",
   "metadata": {},
   "outputs": [],
   "source": [
    "from causallearn.graph.ArrowConfusion import ArrowConfusion\n",
    "from causallearn.graph.AdjacencyConfusion import AdjacencyConfusion\n",
    "from causallearn.graph.SHD import SHD\n",
    "\n",
    "# For arrows\n",
    "arrow = ArrowConfusion(true_adj, inferred_adj)\n",
    "\n",
    "arrowsTp = arrow.get_arrows_tp()\n",
    "arrowsFp = arrow.get_arrows_fp()\n",
    "arrowsFn = arrow.get_arrows_fn()\n",
    "arrowsTn = arrow.get_arrows_tn()\n",
    "\n",
    "arrowPrec = arrow.get_arrows_precision()\n",
    "arrowRec = arrow.get_arrows_recall()\n",
    "# For adjacency matrices\n",
    "adj = AdjacencyConfusion(true_adj, inferred_adj)\n",
    "\n",
    "adjTp = adj.get_adj_tp()\n",
    "adjFp = adj.get_adj_fp()\n",
    "adjFn = adj.get_adj_fn()\n",
    "adjTn = adj.get_adj_tn()\n",
    "adjPrec = adj.get_adj_precision()\n",
    "adjRec = adj.get_adj_recall()\n",
    "\n",
    "\n"
   ]
  },
  {
   "cell_type": "code",
   "execution_count": 47,
   "id": "75a23087-4e5a-4673-92ee-dafcd74b605d",
   "metadata": {},
   "outputs": [],
   "source": [
    "def calculate_mcc(arrowsTp, arrowsTn, arrowsFp, arrowsFn):\n",
    "    numerator = (arrowsTp * arrowsTn) - (arrowsFp * arrowsFn)\n",
    "    denominator = ((arrowsTp + arrowsFp) * (arrowsTp + arrowsFn) * (arrowsTn + arrowsFp) * (arrowsTn + arrowsFn)) ** 0.5\n",
    "    if denominator == 0:\n",
    "        return 0\n",
    "    return numerator / denominator\n",
    "    \n",
    "def calculate_fdr(arrowsTp, arrowsFp):\n",
    "    \"\"\"Menghitung False Discovery Rate (FDR).\"\"\"\n",
    "    if (arrowsTp + arrowsFp) == 0:\n",
    "        return 0  # Untuk menghindari pembagian dengan nol\n",
    "    return arrowsFp / (arrowsTp + arrowsFp)\n",
    "\n",
    "def calculate_sid(arrowsTp, arrowsTn, arrowsFp, arrowsFn):\n",
    "    \"\"\"Menghitung Structural Independence Distance (SID).\"\"\"\n",
    "    return arrowsFp + arrowsFn"
   ]
  },
  {
   "cell_type": "code",
   "execution_count": 48,
   "id": "176765fe-c920-431b-a08e-0c62997975a5",
   "metadata": {},
   "outputs": [
    {
     "name": "stdout",
     "output_type": "stream",
     "text": [
      "SHD: 79\n",
      "SID: 109.0\n",
      "FDR: 0.3522727272727273\n",
      "MCC: 0.42469658686164585\n"
     ]
    }
   ],
   "source": [
    "shd = SHD(true_adj, inferred_adj).get_shd()\n",
    "mcc = calculate_mcc(arrowsTp, arrowsTn, arrowsFp, arrowsFn)\n",
    "fdr = calculate_fdr(arrowsTp, arrowsFp)\n",
    "sid = calculate_sid(arrowsTp, arrowsTn, arrowsFp, arrowsFn)\n",
    "\n",
    "#print(f\"Arrows True Positive: {arrowsTp}, False Positive: {arrowsFp}, False Negative: {arrowsFn}, True Negative: {arrowsTn}\")\n",
    "#print(f\"Arrow Precision: {arrowPrec}, Recall: {arrowRec}\")\n",
    "#print(f\"Adjacency True Positive: {adjTp}, False Positive: {adjFp}, False Negative: {adjFn}, True Negative: {adjTn}\")\n",
    "#print(f\"Adjacency Precision: {adjPrec}, Recall: {adjRec}\")\n",
    "print(f\"SHD: {shd}\")\n",
    "print(f\"SID: {sid}\")\n",
    "print(f\"FDR: {fdr}\")\n",
    "print(f\"MCC: {mcc}\")\n"
   ]
  },
  {
   "cell_type": "code",
   "execution_count": 29,
   "id": "d358be37-3d3a-4e78-8c1a-7ebbbbe231cd",
   "metadata": {},
   "outputs": [],
   "source": [
    "from causallearn.utils.GraphUtils import GraphUtils\n",
    "\n",
    "pdy = GraphUtils.to_pydot(pc_test)\n",
    "pdy.write_png('simple_test67.png')"
   ]
  },
  {
   "cell_type": "code",
   "execution_count": 30,
   "id": "4e5c0c85-1d07-473c-87e4-2530f8c11c6a",
   "metadata": {},
   "outputs": [
    {
     "data": {
      "image/png": "[encoded data removed]",
      "text/plain": [
       "<Figure size 640x480 with 1 Axes>"
      ]
     },
     "metadata": {},
     "output_type": "display_data"
    }
   ],
   "source": [
    "import matplotlib.pyplot as plt\n",
    "import matplotlib.image as mpimg\n",
    "\n",
    "image_path = 'simple_test67.png'  \n",
    "img = mpimg.imread(image_path)\n",
    "\n",
    "plt.imshow(img)\n",
    "plt.axis('off')\n",
    "plt.show()"
   ]
  }
 ],
 "metadata": {
  "kernelspec": {
   "display_name": "Python 3 (ipykernel)",
   "language": "python",
   "name": "python3"
  },
  "language_info": {
   "codemirror_mode": {
    "name": "ipython",
    "version": 3
   },
   "file_extension": ".py",
   "mimetype": "text/x-python",
   "name": "python",
   "nbconvert_exporter": "python",
   "pygments_lexer": "ipython3",
   "version": "3.9.20"
  }
 },
 "nbformat": 4,
 "nbformat_minor": 5
}
